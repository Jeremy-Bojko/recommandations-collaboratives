{
 "cells": [
  {
   "cell_type": "code",
   "execution_count": 1,
   "id": "633ae0a6",
   "metadata": {},
   "outputs": [],
   "source": [
    "from django.db.models import Model\n",
    "import os\n",
    "os.environ[\"DJANGO_ALLOW_ASYNC_UNSAFE\"] = \"true\""
   ]
  },
  {
   "cell_type": "code",
   "execution_count": 2,
   "id": "1e8e5efd",
   "metadata": {},
   "outputs": [],
   "source": [
    "from urbanvitaliz.apps.projects.models import Project"
   ]
  },
  {
   "cell_type": "code",
   "execution_count": 5,
   "id": "214aad67",
   "metadata": {},
   "outputs": [],
   "source": [
    "from IPython.display import display, HTML"
   ]
  },
  {
   "cell_type": "code",
   "execution_count": 8,
   "id": "035ce5a5",
   "metadata": {},
   "outputs": [],
   "source": [
    "from django.template import Context, Template\n"
   ]
  },
  {
   "cell_type": "code",
   "execution_count": 9,
   "id": "47c2a344",
   "metadata": {},
   "outputs": [],
   "source": []
  },
  {
   "cell_type": "code",
   "execution_count": null,
   "id": "6fe4d388",
   "metadata": {},
   "outputs": [],
   "source": []
  }
 ],
 "metadata": {
  "kernelspec": {
   "display_name": "Django Shell-Plus",
   "language": "python",
   "name": "django_extensions"
  },
  "language_info": {
   "codemirror_mode": {
    "name": "ipython",
    "version": 3
   },
   "file_extension": ".py",
   "mimetype": "text/x-python",
   "name": "python",
   "nbconvert_exporter": "python",
   "pygments_lexer": "ipython3",
   "version": "3.9.6"
  }
 },
 "nbformat": 4,
 "nbformat_minor": 5
}
