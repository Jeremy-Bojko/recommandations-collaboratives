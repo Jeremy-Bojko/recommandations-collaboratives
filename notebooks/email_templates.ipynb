{
 "cells": [
  {
   "cell_type": "markdown",
   "metadata": {},
   "source": [
    "# Les templates d'email\n",
    "\n",
    "Les emails transactionnels sont envoyés en utilisant le système de template Brevo.\n",
    "\n",
    "Vous trouvez ici l'objectif de chaque email, ainsi que les paramètres passés en exécutant les briques de code."
   ]
  },
  {
   "cell_type": "code",
   "execution_count": null,
   "metadata": {},
   "outputs": [],
   "source": [
    "# init Django and get site params\n",
    "\n",
    "from django.conf import settings\n",
    "from django.db.models import Model\n",
    "\n",
    "import os\n",
    "os.environ[\"DJANGO_ALLOW_ASYNC_UNSAFE\"] = \"true\"\n",
    "os.environ[\"DJANGO_SETTINGS_MODULE\"] = \"recoco.settings.development\"\n",
    "\n",
    "import django\n",
    "django.setup()\n",
    "\n",
    "from recoco.apps.home.models import SiteConfiguration\n",
    "site_config = SiteConfiguration.objects.first()\n",
    "site = site_config.site\n",
    "settings.SITE_ID = site.pk\n",
    "\n",
    "from recoco.apps.communication.api import get_site_params\n",
    "\n",
    "print(\"Paramètres lié au site\")\n",
    "print(get_site_params())"
   ]
  },
  {
   "cell_type": "markdown",
   "metadata": {},
   "source": [
    "## \"Projet bien reçu\" et \"Projet accepté par l'équipe de modération\"\n",
    "`TPL_PROJECT_RECEIVED` et `TPL_PROJECT_ACCEPTED`"
   ]
  },
  {
   "cell_type": "code",
   "execution_count": null,
   "metadata": {},
   "outputs": [],
   "source": [
    "import pprint\n",
    "\n",
    "from recoco.apps.communication import digests\n",
    "from recoco.apps.projects.models import Project\n",
    "\n",
    "project = Project.objects.first()\n",
    "params = {\n",
    "    \"project\": digests.make_project_digest(project, project.owner),\n",
    "}\n",
    "pprint.pprint(params, compact=True)\n"
   ]
  },
  {
   "cell_type": "markdown",
   "metadata": {},
   "source": [
    "## Le template \"Résumé quotidien général de notifications\"\n",
    "`TPL_DIGEST_FOR_NON_SWITCHTENDER`"
   ]
  },
  {
   "cell_type": "code",
   "execution_count": null,
   "metadata": {},
   "outputs": [],
   "source": [
    "from django.conf import settings\n",
    "from django.contrib.auth import models as auth_models\n",
    "from django.db import transaction\n",
    "from model_bakery import baker\n",
    "from notifications.signals import notify\n",
    "from recoco.apps.communication.digests import send_digest_for_non_switchtender_by_user\n",
    "from recoco.apps.tasks import models as task_models\n",
    "from recoco import verbs\n",
    "\n",
    "assert settings.DEBUG\n",
    "\n",
    "try:\n",
    "    with transaction.atomic():\n",
    "        task = baker.make(task_models.Task, project=project, public=True)\n",
    "\n",
    "        notify.send(\n",
    "                sender=project.owner,\n",
    "                recipient=project.owner,\n",
    "                verb=verbs.Recommendation.DONE,\n",
    "                action_object=task,\n",
    "                target=project,\n",
    "                public=True,\n",
    "        )\n",
    "\n",
    "        send_digest_for_non_switchtender_by_user(project.owner)\n",
    "\n",
    "        raise Exception(\"no db change\")\n",
    "except:\n",
    "    pass"
   ]
  },
  {
   "cell_type": "markdown",
   "metadata": {},
   "source": [
    "## Le template \"Résumé quotidien des conseillers\"\n",
    "`TPL_DIGEST_FOR_SWITCHTENDER`"
   ]
  },
  {
   "cell_type": "code",
   "execution_count": null,
   "metadata": {},
   "outputs": [],
   "source": [
    "from django.conf import settings\n",
    "from recoco.apps.communication.digests import send_digest_for_switchtender_by_user\n",
    "\n",
    "assert settings.DEBUG\n",
    "\n",
    "try:\n",
    "    with transaction.atomic():\n",
    "        task = baker.make(task_models.Task, project=project, public=True)\n",
    "\n",
    "        notify.send(\n",
    "                sender=project.owner,\n",
    "                recipient=project.owner,\n",
    "                verb=verbs.Recommendation.DONE,\n",
    "                action_object=task,\n",
    "                target=project,\n",
    "                public=True,\n",
    "        )\n",
    "\n",
    "        send_digest_for_switchtender_by_user(project.owner)\n",
    "\n",
    "        raise Exception(\"no db change\")\n",
    "except:\n",
    "    pass"
   ]
  },
  {
   "cell_type": "markdown",
   "metadata": {},
   "source": [
    "## Le template \"Résumé des nouvelles recommandations\"\n",
    "`TPL_NEW_RECOMMENDATIONS_DIGEST`"
   ]
  },
  {
   "cell_type": "code",
   "execution_count": null,
   "metadata": {},
   "outputs": [],
   "source": [
    "from django.contrib.contenttypes.models import ContentType\n",
    "from recoco.apps.communication.digests import make_digest_of_project_recommendations_from_notifications \n",
    "\n",
    "\n",
    "try:\n",
    "    with transaction.atomic():\n",
    "        task = baker.make(task_models.Task, project=project, public=True)\n",
    "        notify.send(\n",
    "                sender=project.owner,\n",
    "                recipient=project.owner,\n",
    "                verb=verbs.Recommendation.DONE,\n",
    "                action_object=task,\n",
    "                target=project,\n",
    "                public=True,\n",
    "        )\n",
    "\n",
    "        project_ct = ContentType.objects.get_for_model(Project)\n",
    "        project_notifications = project.owner.notifications.filter(\n",
    "            target_content_type=project_ct.pk,\n",
    "            target_object_id=project.pk,\n",
    "        )\n",
    "\n",
    "        params = make_digest_of_project_recommendations_from_notifications(project, project_notifications, project.owner)\n",
    "        pprint.pprint(params)\n",
    "\n",
    "        raise Exception(\"no db change\")\n",
    "except:\n",
    "    pass"
   ]
  },
  {
   "cell_type": "markdown",
   "metadata": {},
   "source": [
    "## Le template \"Alerte conseillers d'un nouveau projet sur le territoire\"\n",
    "`TPL_NEW_SITE_FOR_SWITCHTENDER`"
   ]
  },
  {
   "cell_type": "code",
   "execution_count": null,
   "metadata": {},
   "outputs": [],
   "source": [
    "from recoco.apps.communication.digests import send_digests_for_new_sites_by_user\n",
    "\n",
    "try:\n",
    "    with transaction.atomic():\n",
    "        notify.send(\n",
    "                sender=project.owner,\n",
    "                recipient=project.owner,\n",
    "                verb=verbs.Project.AVAILABLE,\n",
    "                action_object=project,\n",
    "                target=project,\n",
    "                public=True,\n",
    "        )\n",
    "\n",
    "        send_digests_for_new_sites_by_user(project.owner)\n",
    "\n",
    "        raise Exception(\"no db change\")\n",
    "except:\n",
    "    pass"
   ]
  },
  {
   "cell_type": "markdown",
   "metadata": {},
   "source": [
    "## Le template \"Invitation à rejoindre un projet\"\n",
    "`TPL_SHARING_INVITATION`"
   ]
  },
  {
   "cell_type": "code",
   "execution_count": null,
   "metadata": {},
   "outputs": [],
   "source": [
    "from django.conf import settings\n",
    "from model_bakery import baker\n",
    "from recoco.apps.invites import models as invites_models\n",
    "from recoco.apps.invites.api import invite_send\n",
    "\n",
    "assert settings.DEBUG\n",
    "\n",
    "invite = baker.prepare(invites_models.Invite, site=site, project=project, inviter=project.owner)\n",
    "invite_send(invite)"
   ]
  },
  {
   "cell_type": "markdown",
   "metadata": {},
   "source": [
    "## Le template \"Rappel des nouvelles recommandations (mail projet B)\" et Le template \"Où en êtes-vous ? (mail projet C)\"\n",
    "`TPL_PROJECT_REMINDERS_NEW_RECO_DIGEST` et `TPL_PROJECT_REMINDERS_WHATS_UP_DIGEST`"
   ]
  },
  {
   "cell_type": "code",
   "execution_count": null,
   "metadata": {},
   "outputs": [],
   "source": [
    "from recoco.apps.communication.digests import make_digest_of_project_recommendations\n",
    "from recoco.apps.tasks.models import Task\n",
    "\n",
    "task = baker.prepare(Task, site=site, project=project, created_by=project.owner)\n",
    "tasks = [task]\n",
    "\n",
    "params = make_digest_of_project_recommendations(project, tasks, project.owner)\n",
    "pprint.pprint(params)"
   ]
  }
 ],
 "metadata": {
  "kernelspec": {
   "display_name": ".venv",
   "language": "python",
   "name": "python3"
  },
  "language_info": {
   "codemirror_mode": {
    "name": "ipython",
    "version": 3
   },
   "file_extension": ".py",
   "mimetype": "text/x-python",
   "name": "python",
   "nbconvert_exporter": "python",
   "pygments_lexer": "ipython3",
   "version": "3.11.6"
  }
 },
 "nbformat": 4,
 "nbformat_minor": 2
}
