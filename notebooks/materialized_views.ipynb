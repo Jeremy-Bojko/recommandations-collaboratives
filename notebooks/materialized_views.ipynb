{
 "cells": [
  {
   "cell_type": "markdown",
   "id": "c30e251a",
   "metadata": {},
   "source": [
    "# Les vues matérialisées\n",
    "\n",
    "Cette note décrit comment ajouter une nouvelle vue matérialiée ou mettre à jour une vue existante.\n",
    "\n",
    "Une vue matérailisée n'est vavlable que pour un site.\n",
    "Pour créer une nouvelle vue, vous pouvez utiliser soit une requête SQL brute, soit un Queryset Django.\n",
    "\n",
    "La marche à suivre est la suivante:\n",
    "- ajouter un fichier python ou SQL dans `recoco/apps/metrics/sql_queries`, qui contient la requête SQL permettant de créer la vue,\n",
    "    (NB: la requête doit prendre en paramètre le `site_id`)\n",
    "- éditer les specs de la vue dans les settings `MATERIALIZED_VIEWS_SPEC`,\n",
    "- recréer les vues pour tous les sites avec la commande Django `update_materialized_views`.\n",
    "\n",
    "Le nom de la vue en base suivra le pattern suivant: `{settings.MATERIALIZED_VIEWS_PREFIX}_{self.site_id}_{self.name}`.\n",
    "Exemple pour une vue nommée \"ma_vue\" sur le site numero 9: `mv_9_ma_vue`."
   ]
  },
  {
   "cell_type": "code",
   "execution_count": null,
   "id": "266256b0",
   "metadata": {
    "vscode": {
     "languageId": "sql"
    }
   },
   "outputs": [],
   "source": [
    "\n",
    "-- Exemple de requête SQL brute, avec le site_id en paramètre\n",
    "-- Créer un fichier contenant la requête SQL dans `recoco/apps/metrics/sql_queries/ma_vue_rawsql.sql`\n",
    "\n",
    "SELECT \"projects_project\".\"id\",\n",
    "    COUNT(\"tasks_task\".\"id\") AS \"task_count\"\n",
    "FROM \"projects_project\"\n",
    "    INNER JOIN \"projects_project_sites\" ON (\n",
    "        \"projects_project\".\"id\" = \"projects_project_sites\".\"project_id\"\n",
    "    )\n",
    "    LEFT OUTER JOIN \"tasks_task\" ON (\n",
    "        \"projects_project\".\"id\" = \"tasks_task\".\"project_id\"\n",
    "    )\n",
    "WHERE (\n",
    "        \"projects_project\".\"deleted\" IS NULL\n",
    "        AND \"projects_project_sites\".\"site_id\" = %s\n",
    "    )\n",
    "GROUP BY \"projects_project\".\"id\""
   ]
  },
  {
   "cell_type": "code",
   "execution_count": null,
   "id": "f3907e7e",
   "metadata": {},
   "outputs": [],
   "source": [
    "# La même requête que précédemment, mais cette fois-ci en utilisant un Queryset Django\n",
    "# Créer un fichier contenant la code Django retournant le Queryset dans `recoco/apps/metrics/sql_queries/ma_vue_queryset.py`\n",
    "\n",
    "from recoco.apps.projects.models import Project\n",
    "from django.db.models import Count, QuerySet\n",
    "\n",
    "\n",
    "def get_queryset(site_id: int) -> QuerySet:\n",
    "    return (\n",
    "        Project.objects.filter(sites__id=site_id)\n",
    "        .values(\"id\")\n",
    "        .annotate(task_count=Count(\"tasks\"))\n",
    "    )\n"
   ]
  },
  {
   "cell_type": "code",
   "execution_count": null,
   "id": "42143fb2",
   "metadata": {},
   "outputs": [],
   "source": [
    "# Mettre à jour les settings, afin de référencer les vues nouvellement créées\n",
    "# On spécifie égaleement ici les index qu'on souhaite créer sur ces vues\n",
    "\n",
    "MATERIALIZED_VIEWS_SPEC = [\n",
    "    {\n",
    "        \"name\": \"ma_vue_rawsql\",\n",
    "        \"indexes\": [],\n",
    "        \"unique_indexes\": [],\n",
    "    },\n",
    "    {\n",
    "        \"name\": \"ma_vue_queryset\",\n",
    "        \"indexes\": [],\n",
    "        \"unique_indexes\": [],\n",
    "    },\n",
    "]"
   ]
  },
  {
   "cell_type": "code",
   "execution_count": null,
   "id": "8031d220",
   "metadata": {
    "vscode": {
     "languageId": "shellscript"
    }
   },
   "outputs": [],
   "source": [
    "# Recréer les vues materialisées pour chaque site et les mettre à jour avec cette commande\n",
    "\n",
    "python manage.py update_materialized_views"
   ]
  }
 ],
 "metadata": {
  "kernelspec": {
   "display_name": "Django Shell-Plus",
   "language": "python",
   "name": "django_extensions"
  },
  "language_info": {
   "codemirror_mode": {
    "name": "ipython",
    "version": 3
   },
   "file_extension": ".py",
   "mimetype": "text/x-python",
   "name": "python",
   "nbconvert_exporter": "python",
   "pygments_lexer": "ipython3",
   "version": "3.10.13"
  }
 },
 "nbformat": 4,
 "nbformat_minor": 5
}
