{
 "cells": [
  {
   "cell_type": "markdown",
   "id": "432d7f87",
   "metadata": {},
   "source": [
    "# Scéma de fonctionnement du déclenchement des challenges (didacticiel)\n",
    "\n",
    "![Schéma](./assets/challenge_trigger_v2.svg)\n"
   ]
  }
 ],
 "metadata": {
  "kernelspec": {
   "display_name": "Django Shell-Plus",
   "language": "python",
   "name": "django_extensions"
  },
  "language_info": {
   "codemirror_mode": {
    "name": "ipython",
    "version": 3
   },
   "file_extension": ".py",
   "mimetype": "text/x-python",
   "name": "python",
   "nbconvert_exporter": "python",
   "pygments_lexer": "ipython3",
   "version": "3.10.4"
  }
 },
 "nbformat": 4,
 "nbformat_minor": 5
}
