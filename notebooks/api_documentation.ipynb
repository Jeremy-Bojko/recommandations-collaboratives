{
 "cells": [
  {
   "cell_type": "markdown",
   "metadata": {},
   "source": [
    "# Documentation de l'API REST Recoco\n",
    "\n",
    "\n",
    "## Accès à la documentation\n",
    "\n",
    "Le module `drf-spectacular` est activé en mode debug. Il permet de générer le schema OpenAPI et de l'exposer :\n",
    "- au format brut sur `/api/schema/`\n",
    "- avec Swagger UI sur `/api/schema/swagger-ui/`\n",
    "- avec Redoc sur `/api/schema/redoc/`\n",
    "\n",
    "\n",
    "## Les points de vigilance pour créer de nouveau point de terminaison\n",
    "\n",
    "- Toutes les méthodes exposées (GET/PUT/POST/PATCH/DELETE) par le **ViewSet hérité** sont-elles nécessaires ?\n",
    "- Les **permissions sur le ViewSet** sont-elles définies ? au global et par méthode ?\n",
    "- Le **QuerySet filtre sur le site courant**\n",
    "- Les **permissions au niveau de l'objet** sont-elles vérifiées ? (filtre sur le QuerySet, mais aussi au moment de modifier les objets car ne passe pas par le Queryset)\n",
    "- Le **serializer** n'expose que les champs nécessaires et aux bons ayant droit\n",
    "- Les champs calculés sont bien en lecture seule dans le **serializer** (pk, timestamp, created_by etc..)\n",
    "\n",
    "Ces points de vigilance sont basés sur les recommendations OWASP (https://owasp.org/www-project-api-security/) et plus particulièrement celles adaptées à DRF (https://cheatsheetseries.owasp.org/cheatsheets/Django_REST_Framework_Cheat_Sheet.html)."
   ]
  }
 ],
 "metadata": {
  "language_info": {
   "name": "python"
  }
 },
 "nbformat": 4,
 "nbformat_minor": 2
}
